{
 "cells": [
  {
   "cell_type": "code",
   "execution_count": 2,
   "id": "c60e3a94",
   "metadata": {},
   "outputs": [],
   "source": [
    "using System;  \n",
    "public class Question4 \n",
    "{  \n",
    "    public static void Main() \n",
    " {\n",
    "\tint[] arr0 = new int[10];\n",
    "\tint[] arr1 = new int[10];\n",
    "\tint[] arr2 = new int[10];\n",
    "    int i,j=0,k=0,n;\n",
    "\t\n",
    "    Console.Write(\"\\nInput the number of elements to be stored in the array: \");\n",
    "\tn = Convert.ToInt32(Console.ReadLine()); \t   \n",
    "   \n",
    "    Console.Write(\"Input {0} elements in the array: \\n\",n);\n",
    "        for(i=0;i<n;i++)\n",
    "        {\n",
    "\t      Console.Write(\"element - {0} : \",i);\n",
    "    \t  arr0[i] = Convert.ToInt32(Console.ReadLine()); \t\t  \n",
    "\t    }\n",
    "\n",
    "    for(i=0;i<n;i++)\n",
    "    {\n",
    "\tif (arr0[i]%2 == 0)\n",
    "\t{\n",
    "\t   arr1[j] = arr0[i];\n",
    "\t   j++;\n",
    "\t}\n",
    "\telse\n",
    "\t{\n",
    "\t   arr2[k] = arr0[i];\n",
    "\t   k++;\n",
    "\t}\n",
    "    }\n",
    "\n",
    "    Console.Write(\"The Even elements are : \\n\");\n",
    "    for(i=0;i<j;i++)\n",
    "    {\n",
    "\tConsole.Write(\"{0} \",arr1[i]);\n",
    "    }\n",
    "\n",
    "    Console.Write(\"The Odd elements are :\\n\");\n",
    "    for(i=0;i<k;i++)\n",
    "    {\n",
    "\tConsole.Write(\"{0} \", arr2[i]);\n",
    "    }\n",
    "   }\t\n",
    " } "
   ]
  }
 ],
 "metadata": {
  "kernelspec": {
   "display_name": ".NET (C#)",
   "language": "C#",
   "name": ".net-csharp"
  },
  "language_info": {
   "file_extension": ".cs",
   "mimetype": "text/x-csharp",
   "name": "C#",
   "pygments_lexer": "csharp",
   "version": "8.0"
  }
 },
 "nbformat": 4,
 "nbformat_minor": 5
}
