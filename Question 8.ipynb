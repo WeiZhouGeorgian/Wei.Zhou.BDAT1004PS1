{
 "cells": [
  {
   "cell_type": "code",
   "execution_count": 16,
   "id": "d09dfff0",
   "metadata": {},
   "outputs": [],
   "source": [
    "def curconv(currency, amount):\n",
    "    file = open('currencies.txt','r')\n",
    "    content = file.readlines()\n",
    "    \n",
    "    for lines in content:\n",
    "        if currency == lines.split()[0]:\n",
    "            return float(lines.split()[1]) * amount"
   ]
  },
  {
   "cell_type": "code",
   "execution_count": 18,
   "id": "30e8bd5d",
   "metadata": {},
   "outputs": [
    {
     "data": {
      "text/plain": [
       "122.96544"
      ]
     },
     "execution_count": 18,
     "metadata": {},
     "output_type": "execute_result"
    }
   ],
   "source": [
    "curconv('EUR', 100)"
   ]
  },
  {
   "cell_type": "code",
   "execution_count": 17,
   "id": "1c7fd8bd",
   "metadata": {},
   "outputs": [
    {
     "data": {
      "text/plain": [
       "1.241401"
      ]
     },
     "execution_count": 17,
     "metadata": {},
     "output_type": "execute_result"
    }
   ],
   "source": [
    "curconv('JPY', 100)"
   ]
  }
 ],
 "metadata": {
  "kernelspec": {
   "display_name": "Python 3 (ipykernel)",
   "language": "python",
   "name": "python3"
  },
  "language_info": {
   "codemirror_mode": {
    "name": "ipython",
    "version": 3
   },
   "file_extension": ".py",
   "mimetype": "text/x-python",
   "name": "python",
   "nbconvert_exporter": "python",
   "pygments_lexer": "ipython3",
   "version": "3.9.13"
  }
 },
 "nbformat": 4,
 "nbformat_minor": 5
}
