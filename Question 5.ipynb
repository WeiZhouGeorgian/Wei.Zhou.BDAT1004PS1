{
 "cells": [
  {
   "cell_type": "code",
   "execution_count": 1,
   "id": "95dad3f6",
   "metadata": {},
   "outputs": [],
   "source": [
    "using System;\n",
    " \n",
    "public class Question5\n",
    "{\n",
    "    public static bool FindPoint(float x, float y, float x1, float y1, float x2, float y2)\n",
    "    {\n",
    "        if (x > x1 && x < x2 && y > y1 && y < y2)\n",
    "        return true;\n",
    "        else\n",
    "        return false;\n",
    "    }\n",
    " \n",
    "public static void Main()\n",
    "{\n",
    "    float x1=0, y1=0;\n",
    "    float x2=2, y2=3;\n",
    "\n",
    "    //first point    \n",
    "    Console.Write(\"\\nInput the first point of the rectangle: \\nx = \");\n",
    "    float x1st = Convert.ToInt32(Console.ReadLine());\n",
    "    Console.Write(\"y = \");\n",
    "    float y1st = Convert.ToInt32(Console.ReadLine());\n",
    "    \n",
    "    if (FindPoint(x1st, y1st, x1, y1, x2, y2))\n",
    "        Console.Write(\"True\");\n",
    "    else\n",
    "        Console.Write(\"False\");\n",
    "        \n",
    "    //second point           \n",
    "    Console.Write(\"\\nInput the second point of the rectangle: \\nx = \");\n",
    "    float x2nd = Convert.ToInt32(Console.ReadLine());\n",
    "    Console.Write(\"y = \");\n",
    "    float y2nd = Convert.ToInt32(Console.ReadLine());\n",
    "    \n",
    "    if (FindPoint(x2nd, y2nd, x1, y1, x2, y2))\n",
    "        Console.Write(\"True\");\n",
    "    else\n",
    "        Console.Write(\"False\");\n",
    "    \n",
    "    Console.Write(\"\\nThe answer of 5.b is: \\n\");    \n",
    "    float a1=0.3f,b1=0.5f,a2=1.1f ,b2=0.7f;\n",
    "    float a3=0.5f,b3=0.2f,a4=1.1f,b4=2f;\n",
    "    \n",
    "    if((FindPoint(1, 1, a1, b1, a2, b2)) && (FindPoint(1, 1, a3, b3, a4, b4)))\n",
    "        Console.Write(\"True\");\n",
    "    else\n",
    "        Console.Write(\"False\");\n",
    "}\n",
    "}"
   ]
  },
  {
   "cell_type": "code",
   "execution_count": null,
   "id": "10f02e9f",
   "metadata": {},
   "outputs": [],
   "source": []
  }
 ],
 "metadata": {
  "kernelspec": {
   "display_name": ".NET (C#)",
   "language": "C#",
   "name": ".net-csharp"
  },
  "language_info": {
   "file_extension": ".cs",
   "mimetype": "text/x-csharp",
   "name": "C#",
   "pygments_lexer": "csharp",
   "version": "8.0"
  }
 },
 "nbformat": 4,
 "nbformat_minor": 5
}
