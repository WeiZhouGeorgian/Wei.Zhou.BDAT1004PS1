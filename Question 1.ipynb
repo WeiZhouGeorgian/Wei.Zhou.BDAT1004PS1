{
 "cells": [
  {
   "cell_type": "code",
   "execution_count": null,
   "id": "c49b074f",
   "metadata": {},
   "outputs": [],
   "source": [
    "int 5\n",
    "constant 5_0\n",
    "relational 5>2\n",
    "char '5'\n",
    "arithmatic '5'*2\n",
    "arithmatic '5'+'2'\n",
    "arithmatic 5/2\n",
    "arithmatic 5%2\n",
    "array {5,2,1}\n",
    "relational 5 == 3\n",
    "math class Pi(number)"
   ]
  }
 ],
 "metadata": {
  "kernelspec": {
   "display_name": ".NET (C#)",
   "language": "C#",
   "name": ".net-csharp"
  },
  "language_info": {
   "file_extension": ".cs",
   "mimetype": "text/x-csharp",
   "name": "C#",
   "pygments_lexer": "csharp",
   "version": "8.0"
  }
 },
 "nbformat": 4,
 "nbformat_minor": 5
}
