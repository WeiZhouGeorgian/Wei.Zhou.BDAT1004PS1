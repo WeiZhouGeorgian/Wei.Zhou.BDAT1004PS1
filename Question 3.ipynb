{
 "cells": [
  {
   "cell_type": "code",
   "execution_count": null,
   "id": "c4af447e",
   "metadata": {},
   "outputs": [],
   "source": [
    "using System;\n",
    "public class Question3\n",
    "{\n",
    "    public static void Main()\n",
    "    {\n",
    "        int side1 = 2, side2 = 2, side3 = 2;\n",
    "        Console.WriteLine(\"The Lengh of side1 = {side1}, side2 = {side2}, and side2 = {side2}\");\n",
    "        double semi_perimeter = (side1 + side2 + side3) / 2;\n",
    "        double Area = Math.Sqrt(semi_perimeter * (semi_perimeter - side1) * (semi_perimeter - side2) * (semi_perimeter - side3));\n",
    "        Console.Write(\"By Heron's formula, the area of the triangle is  :\\n{0}\", Area);\n",
    "    }\n",
    "}"
   ]
  }
 ],
 "metadata": {
  "kernelspec": {
   "display_name": ".NET (C#)",
   "language": "C#",
   "name": ".net-csharp"
  },
  "language_info": {
   "file_extension": ".cs",
   "mimetype": "text/x-csharp",
   "name": "C#",
   "pygments_lexer": "csharp",
   "version": "8.0"
  }
 },
 "nbformat": 4,
 "nbformat_minor": 5
}
