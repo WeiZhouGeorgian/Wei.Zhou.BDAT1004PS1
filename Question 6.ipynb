{
 "cells": [
  {
   "cell_type": "code",
   "execution_count": 1,
   "id": "bacacf80",
   "metadata": {},
   "outputs": [
    {
     "name": "stdout",
     "output_type": "stream",
     "text": [
      "appyhay\n",
      "enterway\n"
     ]
    }
   ],
   "source": [
    "def pig(word): \n",
    "    ay = 'ay'\n",
    "    way = 'way'\n",
    "    consonant = ('B','C','D','F','G','H','J','K','L','M','N','P','Q','R','S','T','V','W','X','Y','Z')\n",
    "    vowel = ['A', 'E', 'I', 'O', 'U','a','e','i','o','u']\n",
    "    \n",
    "    first_letter = word[0]\n",
    "    first_letter = str(first_letter)\n",
    "    first_letter = first_letter.upper()\n",
    "    if first_letter in consonant:\n",
    "        length_of_word = len(word)\n",
    "        remove_first_letter = word[1:length_of_word]\n",
    "        pig = remove_first_letter+first_letter+ay\n",
    "        pig_lower = pig.lower()\n",
    "        print(pig_lower)\n",
    "    elif first_letter in vowel:\n",
    "        pig = word + way\n",
    "        pig_lower = pig.lower()\n",
    "        print(pig_lower)\n",
    "        \n",
    "pig('happy')\n",
    "pig('Enter')"
   ]
  },
  {
   "cell_type": "code",
   "execution_count": null,
   "id": "8cf5d6b6",
   "metadata": {},
   "outputs": [],
   "source": []
  }
 ],
 "metadata": {
  "kernelspec": {
   "display_name": "Python 3 (ipykernel)",
   "language": "python",
   "name": "python3"
  },
  "language_info": {
   "codemirror_mode": {
    "name": "ipython",
    "version": 3
   },
   "file_extension": ".py",
   "mimetype": "text/x-python",
   "name": "python",
   "nbconvert_exporter": "python",
   "pygments_lexer": "ipython3",
   "version": "3.9.13"
  }
 },
 "nbformat": 4,
 "nbformat_minor": 5
}
