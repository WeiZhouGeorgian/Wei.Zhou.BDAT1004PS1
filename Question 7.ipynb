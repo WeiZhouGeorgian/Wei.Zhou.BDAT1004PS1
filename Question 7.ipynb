{
 "cells": [
  {
   "cell_type": "code",
   "execution_count": 14,
   "id": "741f80a3",
   "metadata": {},
   "outputs": [
    {
     "name": "stdout",
     "output_type": "stream",
     "text": [
      "There are atimes patients of blood type A_ 15\n",
      "There are btimes patients of blood type B_ 15\n",
      "There are abtimes patients of blood type AB_ 15\n",
      "There are otimes patients of blood type O_ 15\n",
      "There are otimes patients of blood type OO_ 15\n"
     ]
    }
   ],
   "source": [
    "def bldcount(filename):\n",
    "    file = open(filename,'r')\n",
    "    data = file.read()\n",
    "    \n",
    "    atimes = data.count(\"A \")\n",
    "    print('There are atimes patients of blood type A_', atimes)\n",
    "    \n",
    "    btimes = data.count(\"B \")\n",
    "    print('There are btimes patients of blood type B_', atimes)\n",
    "    \n",
    "    abtimes = data.count(\"AB \")\n",
    "    print('There are abtimes patients of blood type AB_', atimes)\n",
    "    \n",
    "    otimes = data.count(\"O \")\n",
    "    print('There are otimes patients of blood type O_', atimes)\n",
    "    \n",
    "    ootimes = data.count(\"OO \")\n",
    "    print('There are otimes patients of blood type OO_', atimes)\n",
    "\n",
    "bldcount('bloodtype1.txt')"
   ]
  },
  {
   "cell_type": "code",
   "execution_count": null,
   "id": "68091381",
   "metadata": {},
   "outputs": [],
   "source": []
  }
 ],
 "metadata": {
  "kernelspec": {
   "display_name": "Python 3 (ipykernel)",
   "language": "python",
   "name": "python3"
  },
  "language_info": {
   "codemirror_mode": {
    "name": "ipython",
    "version": 3
   },
   "file_extension": ".py",
   "mimetype": "text/x-python",
   "name": "python",
   "nbconvert_exporter": "python",
   "pygments_lexer": "ipython3",
   "version": "3.9.13"
  }
 },
 "nbformat": 4,
 "nbformat_minor": 5
}
